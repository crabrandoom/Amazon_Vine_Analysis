{
  "nbformat": 4,
  "nbformat_minor": 0,
  "metadata": {
    "colab": {
      "name": "Vine_Review_Analysis.ipynb",
      "provenance": [],
      "authorship_tag": "ABX9TyPvNQev0KrU7c+PZoRd8xtv"
    },
    "kernelspec": {
      "name": "python3",
      "display_name": "Python 3"
    },
    "language_info": {
      "name": "python"
    }
  },
  "cells": [
    {
      "cell_type": "code",
      "metadata": {
        "colab": {
          "base_uri": "https://localhost:8080/"
        },
        "id": "rinPKM7p0__k",
        "outputId": "5c3544c2-b666-4b57-9e84-a0b232d7577a"
      },
      "source": [
        "import os\n",
        "# Find the latest version of spark 3.0  from http://www.apache.org/dist/spark/ and enter as the spark version\n",
        "# For example:\n",
        "spark_version = 'spark-3.1.2'\n",
        "os.environ['SPARK_VERSION']=spark_version\n",
        "\n",
        "# Install Spark and Java\n",
        "!apt-get update\n",
        "!apt-get install openjdk-11-jdk-headless -qq > /dev/null\n",
        "!wget -q http://www.apache.org/dist/spark/$SPARK_VERSION/$SPARK_VERSION-bin-hadoop2.7.tgz\n",
        "!tar xf $SPARK_VERSION-bin-hadoop2.7.tgz\n",
        "!pip install -q findspark\n",
        "\n",
        "# Set Environment Variables\n",
        "import os\n",
        "os.environ[\"JAVA_HOME\"] = \"/usr/lib/jvm/java-11-openjdk-amd64\"\n",
        "os.environ[\"SPARK_HOME\"] = f\"/content/{spark_version}-bin-hadoop2.7\"\n",
        "\n",
        "# Start a SparkSession\n",
        "import findspark\n",
        "findspark.init()"
      ],
      "execution_count": 1,
      "outputs": [
        {
          "output_type": "stream",
          "text": [
            "\r0% [Working]\r            \rGet:1 http://security.ubuntu.com/ubuntu bionic-security InRelease [88.7 kB]\n",
            "\r0% [Connecting to archive.ubuntu.com (91.189.88.142)] [1 InRelease 0 B/88.7 kB \r                                                                               \rHit:2 https://cloud.r-project.org/bin/linux/ubuntu bionic-cran40/ InRelease\n",
            "Ign:3 https://developer.download.nvidia.com/compute/cuda/repos/ubuntu1804/x86_64  InRelease\n",
            "Ign:4 https://developer.download.nvidia.com/compute/machine-learning/repos/ubuntu1804/x86_64  InRelease\n",
            "Hit:5 https://developer.download.nvidia.com/compute/cuda/repos/ubuntu1804/x86_64  Release\n",
            "Hit:6 http://ppa.launchpad.net/c2d4u.team/c2d4u4.0+/ubuntu bionic InRelease\n",
            "Hit:7 https://developer.download.nvidia.com/compute/machine-learning/repos/ubuntu1804/x86_64  Release\n",
            "Hit:8 http://archive.ubuntu.com/ubuntu bionic InRelease\n",
            "Get:9 http://archive.ubuntu.com/ubuntu bionic-updates InRelease [88.7 kB]\n",
            "Hit:10 http://ppa.launchpad.net/cran/libgit2/ubuntu bionic InRelease\n",
            "Hit:11 http://ppa.launchpad.net/deadsnakes/ppa/ubuntu bionic InRelease\n",
            "Get:12 http://archive.ubuntu.com/ubuntu bionic-backports InRelease [74.6 kB]\n",
            "Hit:13 http://ppa.launchpad.net/graphics-drivers/ppa/ubuntu bionic InRelease\n",
            "Fetched 252 kB in 2s (101 kB/s)\n",
            "Reading package lists... Done\n"
          ],
          "name": "stdout"
        }
      ]
    },
    {
      "cell_type": "code",
      "metadata": {
        "id": "NQWjB-Yd6EiP"
      },
      "source": [
        "# Start Spark session\n",
        "from pyspark.sql import SparkSession\n",
        "spark = SparkSession.builder.appName(\"Tokens\").getOrCreate()"
      ],
      "execution_count": 2,
      "outputs": []
    },
    {
      "cell_type": "code",
      "metadata": {
        "id": "3wtMO3cE6Eml"
      },
      "source": [
        "# Read in data from S3 Buckets\n",
        "from pyspark import SparkFiles\n",
        "url = \"https://dpro23451-bucket.s3.amazonaws.com/vine_table.csv\"\n",
        "spark.sparkContext.addFile(url)\n"
      ],
      "execution_count": 3,
      "outputs": []
    },
    {
      "cell_type": "code",
      "metadata": {
        "id": "ThrwBlK26ErE"
      },
      "source": [
        "df = spark.read.csv(SparkFiles.get(\"vine_table.csv\"), sep=\",\", header=True)"
      ],
      "execution_count": 4,
      "outputs": []
    },
    {
      "cell_type": "code",
      "metadata": {
        "colab": {
          "base_uri": "https://localhost:8080/"
        },
        "id": "ZtrrtFOq-T4t",
        "outputId": "1f5829a1-17d8-4d59-c4e1-0a4e28582c16"
      },
      "source": [
        "from pyspark.sql.types import StringType, IntegerType\n",
        "from pyspark.sql.functions import col\n",
        "\n",
        "df2 = df.selectExpr(\"cast (vine as string) vine\", \"cast (verified_purchase as string) verified_purchase\",\"cast (review_id as string) review_id\",\"cast(total_votes as int) total_votes\",\"cast(star_rating as int) star_rating\",\"cast(helpful_votes as int) helpful_votes\")\n",
        "df2.printSchema()\n",
        "\n"
      ],
      "execution_count": 29,
      "outputs": [
        {
          "output_type": "stream",
          "text": [
            "root\n",
            " |-- vine: string (nullable = true)\n",
            " |-- verified_purchase: string (nullable = true)\n",
            " |-- review_id: string (nullable = true)\n",
            " |-- total_votes: integer (nullable = true)\n",
            " |-- star_rating: integer (nullable = true)\n",
            " |-- helpful_votes: integer (nullable = true)\n",
            "\n",
            "+----+-----------------+--------------+-----------+-----------+-------------+\n",
            "|vine|verified_purchase|     review_id|total_votes|star_rating|helpful_votes|\n",
            "+----+-----------------+--------------+-----------+-----------+-------------+\n",
            "|   N|                Y| RTIS3L2M1F5SM|          0|          5|            0|\n",
            "|   N|                Y| R1ZV7R40OLHKD|          0|          5|            0|\n",
            "|   N|                Y|R3BH071QLH8QMC|          1|          1|            0|\n",
            "|   N|                Y|R127K9NTSXA2YH|          0|          3|            0|\n",
            "|   N|                Y|R32ZWUXDJPW27Q|          0|          4|            0|\n",
            "|   N|                Y|R3AQQ4YUKJWBA6|          0|          1|            0|\n",
            "|   N|                Y|R2F0POU5K6F73F|          0|          5|            0|\n",
            "|   N|                Y|R3VNR804HYSMR6|          0|          5|            0|\n",
            "|   N|                Y| R3GZTM72WA2QH|          0|          5|            0|\n",
            "|   N|                Y| RNQOY62705W1K|          0|          4|            0|\n",
            "|   N|                N|R1VTIA3JTYBY02|          0|          5|            0|\n",
            "|   N|                Y|R29DOU8791QZL8|          0|          1|            0|\n",
            "|   N|                Y|R15DUT1VIJ9RJZ|          0|          2|            0|\n",
            "|   N|                Y|R3IMF2MQ3OU9ZM|          0|          4|            0|\n",
            "|   N|                Y|R23H79DHOZTYAU|          1|          1|            1|\n",
            "|   N|                Y| RIV24EQAIXA4O|          0|          5|            0|\n",
            "|   N|                Y|R3UCNGYDVN24YB|          0|          5|            0|\n",
            "|   N|                Y| RUL4H4XTTN2DY|          0|          5|            0|\n",
            "|   N|                Y|R20JF7Z4DHTNX5|          0|          5|            0|\n",
            "|   N|                Y|R2T1AJ5MFI2260|          0|          4|            0|\n",
            "+----+-----------------+--------------+-----------+-----------+-------------+\n",
            "only showing top 20 rows\n",
            "\n"
          ],
          "name": "stdout"
        }
      ]
    },
    {
      "cell_type": "code",
      "metadata": {
        "id": "ZLxXpkdC-g2S"
      },
      "source": [
        "\n",
        "# retrieve rows with vote total > 20\n",
        "df_filtered = df2.filter(\"total_votes>20\")\n",
        "# filter out non helpful votes\n",
        "df_clean = df_filtered.filter(\"helpful_votes/total_votes >= 0.5\")\n",
        "#filter paid reviews\n",
        "df_paid = df_clean.filter(\"vine == 'Y'\")\n",
        "#filter unpaid reviews\n",
        "df_unpaid = df_clean.filter(\"vine == 'N'\")\n",
        "#filter 5 star paid reviews\n",
        "df_paidFive = df_paid.groupby(\"star_rating\").count()\n",
        "#filter 5 star unpaid reviews\n",
        "df_unpaidFive = df_unpaid.groupby(\"star_rating\").count()\n",
        "\n",
        "#get review counts for each star rating\n",
        "df_reviewCount = df_clean.groupby(\"star_rating\").count()\n",
        "#get total review counts for paid and unpaid\n",
        "df_paidUnpaid = df_clean.groupby(\"vine\").count()\n",
        "\n",
        "\n",
        "\n"
      ],
      "execution_count": 58,
      "outputs": []
    },
    {
      "cell_type": "code",
      "metadata": {
        "colab": {
          "base_uri": "https://localhost:8080/"
        },
        "id": "JIH2VAn4Nglf",
        "outputId": "40a94d3a-370a-4c4f-fea0-23b93e3148ea"
      },
      "source": [
        "df_reviewCount.show()"
      ],
      "execution_count": 54,
      "outputs": [
        {
          "output_type": "stream",
          "text": [
            "+-----------+-----+\n",
            "|star_rating|count|\n",
            "+-----------+-----+\n",
            "|          1| 9563|\n",
            "|          3| 4130|\n",
            "|          5|14748|\n",
            "|          4| 6333|\n",
            "|          2| 3147|\n",
            "+-----------+-----+\n",
            "\n"
          ],
          "name": "stdout"
        }
      ]
    },
    {
      "cell_type": "code",
      "metadata": {
        "colab": {
          "base_uri": "https://localhost:8080/"
        },
        "id": "bPMWDmB9NlVT",
        "outputId": "eba8f698-2428-459f-d072-f761837f5680"
      },
      "source": [
        "df_paidFive.show()"
      ],
      "execution_count": 59,
      "outputs": [
        {
          "output_type": "stream",
          "text": [
            "+-----------+-----+\n",
            "|star_rating|count|\n",
            "+-----------+-----+\n",
            "|          1|    1|\n",
            "|          3|   16|\n",
            "|          5|   44|\n",
            "|          4|   24|\n",
            "|          2|    5|\n",
            "+-----------+-----+\n",
            "\n"
          ],
          "name": "stdout"
        }
      ]
    },
    {
      "cell_type": "code",
      "metadata": {
        "colab": {
          "base_uri": "https://localhost:8080/"
        },
        "id": "_JeRvPvROuLU",
        "outputId": "18697a0a-ccb9-48a9-dfa7-d084be8b0c06"
      },
      "source": [
        "df_unpaidFive.show()"
      ],
      "execution_count": 61,
      "outputs": [
        {
          "output_type": "stream",
          "text": [
            "+-----------+-----+\n",
            "|star_rating|count|\n",
            "+-----------+-----+\n",
            "|          1| 9562|\n",
            "|          3| 4114|\n",
            "|          5|14704|\n",
            "|          4| 6309|\n",
            "|          2| 3142|\n",
            "+-----------+-----+\n",
            "\n"
          ],
          "name": "stdout"
        }
      ]
    },
    {
      "cell_type": "code",
      "metadata": {
        "colab": {
          "base_uri": "https://localhost:8080/"
        },
        "id": "I43naFD9PY28",
        "outputId": "800aad09-b1cb-42f8-c675-54d8ac098ae1"
      },
      "source": [
        "df_paidUnpaid.show()"
      ],
      "execution_count": 62,
      "outputs": [
        {
          "output_type": "stream",
          "text": [
            "+----+-----+\n",
            "|vine|count|\n",
            "+----+-----+\n",
            "|   Y|   90|\n",
            "|   N|37831|\n",
            "+----+-----+\n",
            "\n"
          ],
          "name": "stdout"
        }
      ]
    }
  ]
}